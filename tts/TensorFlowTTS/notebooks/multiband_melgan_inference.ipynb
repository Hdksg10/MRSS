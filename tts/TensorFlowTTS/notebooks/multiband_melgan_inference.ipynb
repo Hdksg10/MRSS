{
 "cells": [
  {
   "cell_type": "code",
   "execution_count": 2,
   "metadata": {},
   "outputs": [
    {
     "name": "stdout",
     "output_type": "stream",
     "text": [
      "Requirement already satisfied: tensorflow-gpu==2.2.0 in /home/lap13548/anaconda3/envs/tensorflow-tts/lib/python3.7/site-packages (2.2.0)\n",
      "Requirement already satisfied: tensorboard<2.3.0,>=2.2.0 in /home/lap13548/anaconda3/envs/tensorflow-tts/lib/python3.7/site-packages (from tensorflow-gpu==2.2.0) (2.2.2)\n",
      "Requirement already satisfied: keras-preprocessing>=1.1.0 in /home/lap13548/anaconda3/envs/tensorflow-tts/lib/python3.7/site-packages (from tensorflow-gpu==2.2.0) (1.1.2)\n",
      "Requirement already satisfied: wheel>=0.26; python_version >= \"3\" in /home/lap13548/anaconda3/envs/tensorflow-tts/lib/python3.7/site-packages (from tensorflow-gpu==2.2.0) (0.34.2)\n",
      "Requirement already satisfied: h5py<2.11.0,>=2.10.0 in /home/lap13548/anaconda3/envs/tensorflow-tts/lib/python3.7/site-packages (from tensorflow-gpu==2.2.0) (2.10.0)\n",
      "Requirement already satisfied: astunparse==1.6.3 in /home/lap13548/anaconda3/envs/tensorflow-tts/lib/python3.7/site-packages (from tensorflow-gpu==2.2.0) (1.6.3)\n",
      "Requirement already satisfied: six>=1.12.0 in /home/lap13548/anaconda3/envs/tensorflow-tts/lib/python3.7/site-packages (from tensorflow-gpu==2.2.0) (1.15.0)\n",
      "Requirement already satisfied: google-pasta>=0.1.8 in /home/lap13548/anaconda3/envs/tensorflow-tts/lib/python3.7/site-packages (from tensorflow-gpu==2.2.0) (0.2.0)\n",
      "Requirement already satisfied: numpy<2.0,>=1.16.0 in /home/lap13548/anaconda3/envs/tensorflow-tts/lib/python3.7/site-packages (from tensorflow-gpu==2.2.0) (1.18.5)\n",
      "Requirement already satisfied: wrapt>=1.11.1 in /home/lap13548/anaconda3/envs/tensorflow-tts/lib/python3.7/site-packages (from tensorflow-gpu==2.2.0) (1.12.1)\n",
      "Requirement already satisfied: scipy==1.4.1; python_version >= \"3\" in /home/lap13548/anaconda3/envs/tensorflow-tts/lib/python3.7/site-packages (from tensorflow-gpu==2.2.0) (1.4.1)\n",
      "Requirement already satisfied: opt-einsum>=2.3.2 in /home/lap13548/anaconda3/envs/tensorflow-tts/lib/python3.7/site-packages (from tensorflow-gpu==2.2.0) (3.3.0)\n",
      "Requirement already satisfied: protobuf>=3.8.0 in /home/lap13548/anaconda3/envs/tensorflow-tts/lib/python3.7/site-packages (from tensorflow-gpu==2.2.0) (3.12.2)\n",
      "Requirement already satisfied: termcolor>=1.1.0 in /home/lap13548/anaconda3/envs/tensorflow-tts/lib/python3.7/site-packages (from tensorflow-gpu==2.2.0) (1.1.0)\n",
      "Requirement already satisfied: absl-py>=0.7.0 in /home/lap13548/anaconda3/envs/tensorflow-tts/lib/python3.7/site-packages (from tensorflow-gpu==2.2.0) (0.9.0)\n",
      "Requirement already satisfied: grpcio>=1.8.6 in /home/lap13548/anaconda3/envs/tensorflow-tts/lib/python3.7/site-packages (from tensorflow-gpu==2.2.0) (1.30.0)\n",
      "Requirement already satisfied: gast==0.3.3 in /home/lap13548/anaconda3/envs/tensorflow-tts/lib/python3.7/site-packages (from tensorflow-gpu==2.2.0) (0.3.3)\n",
      "Requirement already satisfied: tensorflow-estimator<2.3.0,>=2.2.0 in /home/lap13548/anaconda3/envs/tensorflow-tts/lib/python3.7/site-packages (from tensorflow-gpu==2.2.0) (2.2.0)\n",
      "Requirement already satisfied: markdown>=2.6.8 in /home/lap13548/anaconda3/envs/tensorflow-tts/lib/python3.7/site-packages (from tensorboard<2.3.0,>=2.2.0->tensorflow-gpu==2.2.0) (3.2.2)\n",
      "Requirement already satisfied: google-auth<2,>=1.6.3 in /home/lap13548/anaconda3/envs/tensorflow-tts/lib/python3.7/site-packages (from tensorboard<2.3.0,>=2.2.0->tensorflow-gpu==2.2.0) (1.20.0)\n",
      "Requirement already satisfied: tensorboard-plugin-wit>=1.6.0 in /home/lap13548/anaconda3/envs/tensorflow-tts/lib/python3.7/site-packages (from tensorboard<2.3.0,>=2.2.0->tensorflow-gpu==2.2.0) (1.7.0)\n",
      "Requirement already satisfied: werkzeug>=0.11.15 in /home/lap13548/anaconda3/envs/tensorflow-tts/lib/python3.7/site-packages (from tensorboard<2.3.0,>=2.2.0->tensorflow-gpu==2.2.0) (1.0.1)\n",
      "Requirement already satisfied: google-auth-oauthlib<0.5,>=0.4.1 in /home/lap13548/anaconda3/envs/tensorflow-tts/lib/python3.7/site-packages (from tensorboard<2.3.0,>=2.2.0->tensorflow-gpu==2.2.0) (0.4.1)\n",
      "Requirement already satisfied: setuptools>=41.0.0 in /home/lap13548/anaconda3/envs/tensorflow-tts/lib/python3.7/site-packages (from tensorboard<2.3.0,>=2.2.0->tensorflow-gpu==2.2.0) (49.2.0.post20200714)\n",
      "Requirement already satisfied: requests<3,>=2.21.0 in /home/lap13548/anaconda3/envs/tensorflow-tts/lib/python3.7/site-packages (from tensorboard<2.3.0,>=2.2.0->tensorflow-gpu==2.2.0) (2.24.0)\n",
      "Requirement already satisfied: importlib-metadata; python_version < \"3.8\" in /home/lap13548/anaconda3/envs/tensorflow-tts/lib/python3.7/site-packages (from markdown>=2.6.8->tensorboard<2.3.0,>=2.2.0->tensorflow-gpu==2.2.0) (1.7.0)\n",
      "Requirement already satisfied: pyasn1-modules>=0.2.1 in /home/lap13548/anaconda3/envs/tensorflow-tts/lib/python3.7/site-packages (from google-auth<2,>=1.6.3->tensorboard<2.3.0,>=2.2.0->tensorflow-gpu==2.2.0) (0.2.8)\n",
      "Requirement already satisfied: cachetools<5.0,>=2.0.0 in /home/lap13548/anaconda3/envs/tensorflow-tts/lib/python3.7/site-packages (from google-auth<2,>=1.6.3->tensorboard<2.3.0,>=2.2.0->tensorflow-gpu==2.2.0) (4.1.1)\n",
      "Requirement already satisfied: rsa<5,>=3.1.4; python_version >= \"3.5\" in /home/lap13548/anaconda3/envs/tensorflow-tts/lib/python3.7/site-packages (from google-auth<2,>=1.6.3->tensorboard<2.3.0,>=2.2.0->tensorflow-gpu==2.2.0) (4.6)\n",
      "Requirement already satisfied: requests-oauthlib>=0.7.0 in /home/lap13548/anaconda3/envs/tensorflow-tts/lib/python3.7/site-packages (from google-auth-oauthlib<0.5,>=0.4.1->tensorboard<2.3.0,>=2.2.0->tensorflow-gpu==2.2.0) (1.3.0)\n",
      "Requirement already satisfied: urllib3!=1.25.0,!=1.25.1,<1.26,>=1.21.1 in /home/lap13548/anaconda3/envs/tensorflow-tts/lib/python3.7/site-packages (from requests<3,>=2.21.0->tensorboard<2.3.0,>=2.2.0->tensorflow-gpu==2.2.0) (1.25.10)\n",
      "Requirement already satisfied: idna<3,>=2.5 in /home/lap13548/anaconda3/envs/tensorflow-tts/lib/python3.7/site-packages (from requests<3,>=2.21.0->tensorboard<2.3.0,>=2.2.0->tensorflow-gpu==2.2.0) (2.10)\n",
      "Requirement already satisfied: chardet<4,>=3.0.2 in /home/lap13548/anaconda3/envs/tensorflow-tts/lib/python3.7/site-packages (from requests<3,>=2.21.0->tensorboard<2.3.0,>=2.2.0->tensorflow-gpu==2.2.0) (3.0.4)\n",
      "Requirement already satisfied: certifi>=2017.4.17 in /home/lap13548/anaconda3/envs/tensorflow-tts/lib/python3.7/site-packages (from requests<3,>=2.21.0->tensorboard<2.3.0,>=2.2.0->tensorflow-gpu==2.2.0) (2020.6.20)\n",
      "Requirement already satisfied: zipp>=0.5 in /home/lap13548/anaconda3/envs/tensorflow-tts/lib/python3.7/site-packages (from importlib-metadata; python_version < \"3.8\"->markdown>=2.6.8->tensorboard<2.3.0,>=2.2.0->tensorflow-gpu==2.2.0) (3.1.0)\n",
      "Requirement already satisfied: pyasn1<0.5.0,>=0.4.6 in /home/lap13548/anaconda3/envs/tensorflow-tts/lib/python3.7/site-packages (from pyasn1-modules>=0.2.1->google-auth<2,>=1.6.3->tensorboard<2.3.0,>=2.2.0->tensorflow-gpu==2.2.0) (0.4.8)\n",
      "Requirement already satisfied: oauthlib>=3.0.0 in /home/lap13548/anaconda3/envs/tensorflow-tts/lib/python3.7/site-packages (from requests-oauthlib>=0.7.0->google-auth-oauthlib<0.5,>=0.4.1->tensorboard<2.3.0,>=2.2.0->tensorflow-gpu==2.2.0) (3.1.0)\n"
     ]
    }
   ],
   "source": [
    "## tensorflow-gpu==2.3.0 bug to load_weight after call inference\n",
    "!pip install tensorflow-gpu==2.2.0"
   ]
  },
  {
   "cell_type": "code",
   "execution_count": 3,
   "metadata": {},
   "outputs": [],
   "source": [
    "import yaml\n",
    "import numpy as np\n",
    "import matplotlib.pyplot as plt\n",
    "\n",
    "import tensorflow as tf\n",
    "\n",
    "from tensorflow_tts.inference import AutoConfig\n",
    "from tensorflow_tts.inference import TFAutoModel"
   ]
  },
  {
   "cell_type": "code",
   "execution_count": 4,
   "metadata": {},
   "outputs": [],
   "source": [
    "config = AutoConfig.from_pretrained(\"../examples/multiband_melgan/conf/multiband_melgan.v1.yaml\")\n",
    "mb_melgan = TFAutoModel.from_pretrained(\n",
    "    config=config, \n",
    "    pretrained_path=None, # \"../examples/fastspeech2/checkpoints/model-150000.h5\",\n",
    "    is_build=False, # don't build model if you want to save it to pb. (TF related bug)\n",
    "    name=\"mb_melgan\"\n",
    ")"
   ]
  },
  {
   "cell_type": "code",
   "execution_count": 5,
   "metadata": {},
   "outputs": [],
   "source": [
    "fake_mels = tf.random.uniform(shape=[4, 256, 80], dtype=tf.float32)"
   ]
  },
  {
   "cell_type": "code",
   "execution_count": 6,
   "metadata": {},
   "outputs": [],
   "source": [
    "audios = mb_melgan.inference(fake_mels)"
   ]
  },
  {
   "cell_type": "code",
   "execution_count": 7,
   "metadata": {},
   "outputs": [],
   "source": [
    "mb_melgan.load_weights(\"../examples/multiband_melgan/checkpoints/mb_melgan.v1-940K.h5\")"
   ]
  },
  {
   "cell_type": "markdown",
   "metadata": {},
   "source": [
    "# Save to Pb"
   ]
  },
  {
   "cell_type": "code",
   "execution_count": 8,
   "metadata": {},
   "outputs": [
    {
     "name": "stdout",
     "output_type": "stream",
     "text": [
      "WARNING:tensorflow:Skipping full serialization of Keras layer <tensorflow_tts.models.mb_melgan.TFMBMelGANGenerator object at 0x7fcd99f163d0>, because it is not built.\n",
      "WARNING:tensorflow:Skipping full serialization of Keras layer <tensorflow_tts.models.mb_melgan.TFPQMF object at 0x7fcd99c16710>, because it is not built.\n",
      "WARNING:tensorflow:From /home/lap13548/anaconda3/envs/tensorflow-tts/lib/python3.7/site-packages/tensorflow/python/ops/resource_variable_ops.py:1817: calling BaseResourceVariable.__init__ (from tensorflow.python.ops.resource_variable_ops) with constraint is deprecated and will be removed in a future version.\n",
      "Instructions for updating:\n",
      "If using Keras pass *_constraint arguments to layers.\n",
      "INFO:tensorflow:Assets written to: ./mb_melgan/assets\n"
     ]
    }
   ],
   "source": [
    "tf.saved_model.save(mb_melgan, \"./mb_melgan\", signatures=mb_melgan.inference)"
   ]
  },
  {
   "cell_type": "markdown",
   "metadata": {},
   "source": [
    "# Load and Inference"
   ]
  },
  {
   "cell_type": "code",
   "execution_count": 9,
   "metadata": {},
   "outputs": [],
   "source": [
    "mb_melgan = tf.saved_model.load(\"./mb_melgan\")"
   ]
  },
  {
   "cell_type": "code",
   "execution_count": 8,
   "metadata": {},
   "outputs": [],
   "source": [
    "mels = np.load(\"../dump/valid/norm-feats/LJ001-0009-norm-feats.npy\")"
   ]
  },
  {
   "cell_type": "code",
   "execution_count": 9,
   "metadata": {},
   "outputs": [],
   "source": [
    "audios = mb_melgan.inference(mels[None, ...])"
   ]
  },
  {
   "cell_type": "code",
   "execution_count": 10,
   "metadata": {},
   "outputs": [
    {
     "data": {
      "text/plain": [
       "[<matplotlib.lines.Line2D at 0x7f5fe8276190>]"
      ]
     },
     "execution_count": 10,
     "metadata": {},
     "output_type": "execute_result"
    },
    {
     "data": {
      "image/png": "[encoded data removed]",
      "text/plain": [
       "<Figure size 432x288 with 1 Axes>"
      ]
     },
     "metadata": {
      "needs_background": "light"
     },
     "output_type": "display_data"
    }
   ],
   "source": [
    "plt.plot(audios[0, :, 0])"
   ]
  },
  {
   "cell_type": "code",
   "execution_count": null,
   "metadata": {},
   "outputs": [],
   "source": []
  }
 ],
 "metadata": {
  "kernelspec": {
   "display_name": "Python 3",
   "language": "python",
   "name": "python3"
  },
  "language_info": {
   "codemirror_mode": {
    "name": "ipython",
    "version": 3
   },
   "file_extension": ".py",
   "mimetype": "text/x-python",
   "name": "python",
   "nbconvert_exporter": "python",
   "pygments_lexer": "ipython3",
   "version": "3.7.7"
  }
 },
 "nbformat": 4,
 "nbformat_minor": 4
}
